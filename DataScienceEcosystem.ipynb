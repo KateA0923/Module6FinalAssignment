{
 "cells": [
  {
   "cell_type": "markdown",
   "id": "6bf54ee6-4711-43c5-8df4-980d71786904",
   "metadata": {},
   "source": [
    "# Data Science Tools and Ecosystem"
   ]
  },
  {
   "cell_type": "markdown",
   "id": "35565655-80f7-4e18-b2d0-d9efa6fb3ea8",
   "metadata": {},
   "source": [
    "In this notebook, Data Science Tools and Ecosystems are summarized."
   ]
  },
  {
   "cell_type": "markdown",
   "id": "2e7c9959-efa8-4bde-80d1-320fa2f86485",
   "metadata": {},
   "source": [
    "**Objectives**"
   ]
  },
  {
   "cell_type": "markdown",
   "id": "bfd2422e-810d-41c6-9775-c66c0e35e6a8",
   "metadata": {},
   "source": [
    "* Popular Languages\n",
    "* Data Science Libraries\n",
    "* Data Science Tools"
   ]
  },
  {
   "cell_type": "markdown",
   "id": "ceb3e9fe-e119-4ebd-862f-ab7fd66d621f",
   "metadata": {},
   "source": [
    "## Author"
   ]
  },
  {
   "cell_type": "markdown",
   "id": "a0a7d7eb-60ae-4381-b980-4babd661c360",
   "metadata": {},
   "source": [
    "Kathryn Woods"
   ]
  },
  {
   "cell_type": "markdown",
   "id": "e23e64ee-c606-4af4-a596-b01d6429ed66",
   "metadata": {},
   "source": [
    "Some of the popular languages that Data Scientists use are:"
   ]
  },
  {
   "cell_type": "markdown",
   "id": "693a7b1f-5c93-4eca-be8b-5d1d41b0bf77",
   "metadata": {},
   "source": [
    "1. Python\n",
    "2. SQL\n",
    "3. R\n",
    "   "
   ]
  },
  {
   "cell_type": "markdown",
   "id": "e7f83862-48c7-454f-8e45-1a2ff7eb7e32",
   "metadata": {},
   "source": [
    "Some of the commonly used libraries used by Data Scientists include:"
   ]
  },
  {
   "cell_type": "markdown",
   "id": "95a5b512-427d-46b9-9378-417794fd45c6",
   "metadata": {},
   "source": [
    "1. Pandas\n",
    "2. Maplotlib\n",
    "3. Apache Spark\n",
    "   "
   ]
  },
  {
   "cell_type": "markdown",
   "id": "f0b698d0-8bc3-4698-99b0-fc5d54334779",
   "metadata": {
    "scrolled": true
   },
   "source": [
    "# Data Science Tools\n",
    "\n",
    "| Open Source Development Tools |\n",
    "| ---------- |\n",
    "| JupyterNotebooks |\n",
    "| RStudio |\n",
    "| Git |"
   ]
  },
  {
   "cell_type": "markdown",
   "id": "c9d77953-ae26-4313-87d3-857ea48f82a4",
   "metadata": {},
   "source": [
    "### Below are a few examples of evaluating arithmetic expressions in Python"
   ]
  },
  {
   "cell_type": "markdown",
   "id": "89e2a8ae-32eb-4f77-9bd0-59d425ec8506",
   "metadata": {},
   "source": [
    "# This is simple arithmetic explression to multiply then add integers"
   ]
  },
  {
   "cell_type": "code",
   "execution_count": 66,
   "id": "38faa7d9-d7c5-484e-abc3-a2121b34fdd6",
   "metadata": {},
   "outputs": [
    {
     "data": {
      "text/plain": [
       "17"
      ]
     },
     "execution_count": 66,
     "metadata": {},
     "output_type": "execute_result"
    }
   ],
   "source": [
    "(3*4)+5"
   ]
  },
  {
   "cell_type": "markdown",
   "id": "7ddea49b-78a1-4209-82b6-15567b24938c",
   "metadata": {},
   "source": [
    "# This will convert 200 minutes to hours by dividing by 60"
   ]
  },
  {
   "cell_type": "code",
   "execution_count": 68,
   "id": "a475b99b-ddf0-461b-92b1-cafae70f2ba8",
   "metadata": {},
   "outputs": [
    {
     "data": {
      "text/plain": [
       "3.3333333333333335"
      ]
     },
     "execution_count": 68,
     "metadata": {},
     "output_type": "execute_result"
    }
   ],
   "source": [
    "200/60"
   ]
  },
  {
   "cell_type": "code",
   "execution_count": null,
   "id": "a24ca331-6002-43bb-81a9-661328318f08",
   "metadata": {},
   "outputs": [],
   "source": []
  }
 ],
 "metadata": {
  "kernelspec": {
   "display_name": "Python 3 (ipykernel)",
   "language": "python",
   "name": "python3"
  },
  "language_info": {
   "codemirror_mode": {
    "name": "ipython",
    "version": 3
   },
   "file_extension": ".py",
   "mimetype": "text/x-python",
   "name": "python",
   "nbconvert_exporter": "python",
   "pygments_lexer": "ipython3",
   "version": "3.12.4"
  }
 },
 "nbformat": 4,
 "nbformat_minor": 5
}
